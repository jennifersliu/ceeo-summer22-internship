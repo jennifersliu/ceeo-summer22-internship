{
  "nbformat": 4,
  "nbformat_minor": 0,
  "metadata": {
    "colab": {
      "name": "mechanical-movement.ipynb",
      "provenance": []
    },
    "kernelspec": {
      "name": "python3",
      "display_name": "Python 3"
    },
    "language_info": {
      "name": "python"
    }
  },
  "cells": [
    {
      "cell_type": "markdown",
      "source": [
        "# Mechanism Model Analysis"
      ],
      "metadata": {
        "id": "aa6DTIJrtFHB"
      }
    },
    {
      "cell_type": "markdown",
      "source": [
        "## 1. Setup"
      ],
      "metadata": {
        "id": "o9XtFT2kQnhP"
      }
    },
    {
      "cell_type": "code",
      "execution_count": 1,
      "metadata": {
        "colab": {
          "base_uri": "https://localhost:8080/"
        },
        "cellView": "form",
        "id": "qrAqWXODsTkI",
        "outputId": "88c6eb10-b28e-4687-d658-12f9f20e624e"
      },
      "outputs": [
        {
          "output_type": "stream",
          "name": "stdout",
          "text": [
            "Onshape client configured - ready to go!\n"
          ]
        }
      ],
      "source": [
        "#@title Import and Setup Onshape Client\n",
        "\n",
        "!pip install onshape-client\n",
        "from onshape_client.client import Client\n",
        "from onshape_client.onshape_url import OnshapeElement\n",
        "import json\n",
        "\n",
        "#@markdown Chage the base if using an enterprise (i.e. \"https://ptc.onshape.com\")\n",
        "base = 'https://cad.onshape.com' #@param {type:\"string\"}\n",
        "\n",
        "#@markdown Would you like to import your API keys from a file, or copy and paste them directly?\n",
        "keyImportOption = \"Copy/Paste Keys\" #@param [\"Upload Keys from File\", \"Copy/Paste Keys\"]\n",
        "\n",
        "from IPython.display import clear_output \n",
        "clear_output()\n",
        "print(\"Onshape Client successfully imported!\")\n",
        "\n",
        "if keyImportOption == \"Upload Keys from File\":\n",
        "  from google.colab import files\n",
        "  uploaded = files.upload()\n",
        "  for fn in uploaded.keys():\n",
        "    execfile(fn)\n",
        "\n",
        "  client = Client(configuration={\"base_url\": base,\n",
        "                                \"access_key\": access,\n",
        "                                \"secret_key\": secret})\n",
        "  clear_output()\n",
        "  print('Onshape client configured - ready to go!')\n",
        "else:\n",
        "  access = input(\"Paste your Onshape Access Key: \")\n",
        "  secret = input(\"Paste your Onshape Secret Key: \")\n",
        "  client = Client(configuration={\"base_url\": base,\n",
        "                                \"access_key\": access,\n",
        "                                \"secret_key\": secret})\n",
        "  clear_output()\n",
        "  print('Onshape client configured - ready to go!')\n"
      ]
    },
    {
      "cell_type": "code",
      "source": [
        "#@title Get Assembly Definition\n",
        "#@markdown Function `getAssemblyDefinition(url: str)` returns JSON of all parts in a document. The URL can be any element from the document.\n",
        "url = 'https://cad.onshape.com/documents/83fe72223d6c66b41b765924/w/113e1197ad4a6fb4aa7ec89e/e/32213f4769260d44baa04f32' #@param {type:\"string\"}\n",
        "showResponse = False#@param {type:\"boolean\"}\n",
        "listParts = True#@param {type:\"boolean\"}\n",
        "def getAssemblyDefinition(url: str):\n",
        "  fixed_url = '/api/assemblies/d/did/w/wid/e/eid'\n",
        "\n",
        "  element = OnshapeElement(url)\n",
        "  fixed_url = fixed_url.replace('did', element.did)\n",
        "  fixed_url = fixed_url.replace('wid', element.wvmid)\n",
        "  fixed_url = fixed_url.replace('eid', element.eid)\n",
        "\n",
        "  method = 'GET'\n",
        "\n",
        "  params = {}\n",
        "  payload = {}\n",
        "  headers = {'Accept': 'application/vnd.onshape.v1+json; charset=UTF-8;qs=0.1',\n",
        "            'Content-Type': 'application/json'}\n",
        "\n",
        "  response = client.api_client.request(method, url=base + fixed_url, query_params=params, headers=headers, body=payload)\n",
        "\n",
        "  parsed = json.loads(response.data)\n",
        "  return parsed\n",
        "\n",
        "assemblyDefinitionResponse = getAssemblyDefinition(url)\n",
        "\n",
        "if showResponse:\n",
        "  print(json.dumps(assemblyDefinitionResponse, indent=4, sort_keys=True))\n",
        "if listParts:\n",
        "  for instance in assemblyDefinitionResponse['rootAssembly']['instances']:\n",
        "    name = instance['name']\n",
        "    id = instance['id']\n",
        "    print(f'Part named {name} has id {id}')\n",
        "else:\n",
        "  pass"
      ],
      "metadata": {
        "colab": {
          "base_uri": "https://localhost:8080/"
        },
        "cellView": "form",
        "id": "irhi9iINtSCe",
        "outputId": "89d0b2fc-dc98-4c1c-a842-1ae23fca2086"
      },
      "execution_count": 42,
      "outputs": [
        {
          "output_type": "stream",
          "name": "stdout",
          "text": [
            "Part named long <1> has id MVH0XKyf8KTYbGcUt\n",
            "Part named short <1> has id MkDgRNuahZje4KFoa\n",
            "Part named short <2> has id MryqLeLf3jqMe5AYq\n",
            "Part named long <2> has id MA0u7AAFGH4ZEPP4F\n",
            "Part named long <3> has id MIWdI457zLlmJ9qOb\n",
            "Part named long <4> has id MLMsoSwF1nzM4G00L\n",
            "Part named long <5> has id MfPJ2HUnqDkr4V6ln\n",
            "Part named long <6> has id Me4F7q9AfegArwEDM\n",
            "Part named short <3> has id MA2Cx0BIP8Vv/5AMQ\n",
            "Part named short <4> has id MIlJtSmo55mzr5vwP\n",
            "Part named base <1> has id MaeShPW47CUhd9/re\n",
            "Part named end <1> has id MKx3zdFgIy1hymOfT\n",
            "Part named end <2> has id M/DOa7cJLjEv6Tloh\n"
          ]
        }
      ]
    },
    {
      "cell_type": "code",
      "source": [
        "#@title Visualization\n",
        "\n",
        "from onshape_client.oas import configuration\n",
        "\n",
        "viewMatrix = \"isometric\" \n",
        "pixelSize = 0.0007\n",
        "\n",
        "from IPython.display import Image\n",
        "import base64\n",
        "\n",
        "def partAssemblyShadedView(viewMatrix = \"isometric\",pixelSize = 0.003):\n",
        "    # Returns the base64 image string of a shaded view of a part studio\n",
        "    # viewMatrix can be any face direction or isometric as a string, or a 1x12 view matrix\n",
        "    method = 'GET'\n",
        "    fixed_url = '/api/assemblies/d/did/w/wid/e/eid'\n",
        "    element = OnshapeElement(url)\n",
        "    fixed_url = fixed_url.replace('did', element.did)\n",
        "    fixed_url = fixed_url.replace('wid', element.wvmid)\n",
        "    fixed_url = fixed_url.replace('eid', element.eid)\n",
        "\n",
        "    if any(face in viewMatrix for face in [\"front\",\"back\",\"top\",\"bottom\",\"left\",\"right\"]):\n",
        "        matrix = viewMatrix\n",
        "    elif viewMatrix == \"isometric\":\n",
        "        matrix = \"0.612,0.612,0,0,-0.354,0.354,0.707,0,0.707,-0.707,0.707,0\"\n",
        "    elif isinstance(viewMatrix,list):\n",
        "        matrix = str(viewMatrix).replace('[','').replace(']','')\n",
        "    else: \n",
        "        matrix = None \n",
        "\n",
        "    ## View Matrix below is roughly isometric\n",
        "    params = {'viewMatrix':matrix,\n",
        "                'edges':'show',\n",
        "                'outputHeight':600,\n",
        "                'outputWidth':1000,\n",
        "                'pixelSize':pixelSize}\n",
        "    \n",
        "    payload = {}\n",
        "    headers = {'Accept': 'application/vnd.onshape.v1+json',\n",
        "                'Content-Type': 'application/json'}\n",
        "\n",
        "    response = client.api_client.request(method, url=base + fixed_url + \"/shadedviews\", query_params=params, headers=headers, body=payload)\n",
        "    \n",
        "    parsed = json.loads(response.data)\n",
        "    imgdata = base64.b64decode(parsed['images'][0])\n",
        "    with open(\"image.jpg\", 'wb') as f:\n",
        "        f.write(imgdata)\n",
        "    \n",
        "    return imgdata\n",
        "\n",
        "img = partAssemblyShadedView(viewMatrix,pixelSize)\n",
        "display(Image(img))"
      ],
      "metadata": {
        "colab": {
          "base_uri": "https://localhost:8080/",
          "height": 617
        },
        "cellView": "form",
        "id": "wIPU8Lom9syN",
        "outputId": "73840fd3-0965-45a2-859e-8f1fcb7cb0fd"
      },
      "execution_count": 47,
      "outputs": [
        {
          "output_type": "display_data",
          "data": {
            "text/plain": [
              "<IPython.core.display.Image object>"
            ],
            "image/png": "[encoded data removed]"
          },
          "metadata": {}
        }
      ]
    },
    {
      "cell_type": "markdown",
      "source": [
        "## 2. Move Input of Mechanism"
      ],
      "metadata": {
        "id": "q1Jrk-t6Qqdd"
      }
    },
    {
      "cell_type": "code",
      "source": [
        "#@title Run this cell to load matrix helper functions\n",
        "\n",
        "import math\n",
        "import numpy\n",
        "\n",
        "def IdentitySixteen():\n",
        "  m = [\n",
        "      1, 0, 0, 0,\n",
        "      0, 1, 0, 0,\n",
        "      0, 0, 1, 0,\n",
        "      0, 0, 0, 1\n",
        "      ]\n",
        "  return m\n",
        "\n",
        "def DiceTransform(value):\n",
        "    switcher = {\n",
        "        0: [\n",
        "            0, 0, 1, 0,\n",
        "            0, 1, 0, 0,\n",
        "            -1, 0, 0, 0,\n",
        "            0, 0, 0, 1\n",
        "           ],\n",
        "        1: [\n",
        "            0, 0, 1, 0,\n",
        "            0, 1, 0, 0,\n",
        "            -1, 0, 0, 0,\n",
        "            0, 0, 0, 1\n",
        "           ],\n",
        "        2: [\n",
        "            1, 0, 0, 0,\n",
        "            0, 0, 1, 0,\n",
        "            0, -1, 0, 0,\n",
        "            0, 0, 0, 1\n",
        "           ],\n",
        "        3: [\n",
        "            1, 0, 0, 0,\n",
        "            0, -1, 0, 0,\n",
        "            0, 0, -1, 0,\n",
        "            0, 0, 0, 1\n",
        "           ],\n",
        "        4: [\n",
        "            1, 0, 0, 0,\n",
        "            0, 1, 0, 0,\n",
        "            0, 0, 1, 0,\n",
        "            0, 0, 0, 1\n",
        "           ],\n",
        "        5: [\n",
        "            1, 0, 0, 0,\n",
        "            0, 0, -1, 0,\n",
        "            0, 1, 0, 0,\n",
        "            0, 0, 0, 1\n",
        "           ],\n",
        "        6: [\n",
        "            0, 0, -1, 0,\n",
        "            0, 1, 0, 0,\n",
        "            1, 0, 0, 0,\n",
        "            0, 0, 0, 1\n",
        "           ] \n",
        "    }\n",
        "  \n",
        "    # get() method of dictionary data type returns \n",
        "    # value of passed argument if it is present \n",
        "    # in dictionary otherwise second argument will\n",
        "    # be assigned as default value of passed argument\n",
        "    return switcher.get(value, \"nothing\")\n",
        "\n",
        "def DiceMove(value,x1,y1):\n",
        "  matrix = DiceTransform(value)\n",
        "  matrix[3] = x1\n",
        "  matrix[7] = y1\n",
        "  return matrix\n",
        "\n",
        "def DiceFollow(diceMatrix,tcpMatrix):\n",
        "  diceMatrix[3] = tcpMatrix[3]\n",
        "  diceMatrix[7] = tcpMatrix[7]\n",
        "  diceMatrix[11] = tcpMatrix[11]\n",
        "  return diceMatrix\n",
        "  \n",
        "def sixteenToFourByFour(matrix):\n",
        "  fourbyfour = [[matrix[0],matrix[1],matrix[2],matrix[3]],\n",
        "                [matrix[4],matrix[5],matrix[6],matrix[7]],\n",
        "                [matrix[8],matrix[9],matrix[10],matrix[11]],\n",
        "                [matrix[12],matrix[13],matrix[14],matrix[15]]]\n",
        "  return fourbyfour\n",
        "\n",
        "def fourByFourToSixteen(matrix):\n",
        "  sixteen = [matrix[0][0],matrix[0][1],matrix[0][2],matrix[0][3],\n",
        "             matrix[1][0],matrix[1][1],matrix[1][2],matrix[1][3],\n",
        "             matrix[2][0],matrix[2][1],matrix[2][2],matrix[2][3],\n",
        "             matrix[3][0],matrix[3][1],matrix[3][2],matrix[3][3]]\n",
        "  return sixteen\n",
        "\n",
        "def clockwiseSpinX(theta):\n",
        "  m = [[1, 0, 0, 0],\n",
        "       [0, math.cos(theta), math.sin(theta), 0],\n",
        "       [0, -math.sin(theta), math.cos(theta), 0],\n",
        "       [0, 0, 0, 1]\n",
        "       ]\n",
        "  return m\n",
        "\n",
        "def clockwiseSpinY(theta):\n",
        "  m = [[math.cos(theta), 0, math.sin(theta), 0],\n",
        "       [0, 1, 0, 0],\n",
        "       [-math.sin(theta), 0, math.cos(theta), 0],\n",
        "       [0, 0, 0, 1]\n",
        "       ]\n",
        "  return m\n",
        "\n",
        "def clockwiseSpinZ(theta):\n",
        "  m = [[math.cos(theta), math.sin(theta), 0, 0],\n",
        "       [-math.sin(theta), math.cos(theta), 0, 0],\n",
        "       [0, 0, 1, 0],\n",
        "       [0, 0, 0, 1]]\n",
        "  return m\n"
      ],
      "metadata": {
        "id": "hZ-W-TYfQwNN",
        "cellView": "form"
      },
      "execution_count": 16,
      "outputs": []
    },
    {
      "cell_type": "code",
      "source": [
        "#@title Transformation Matrix\n",
        "#@markdown Move the part with specified id. (Use getAssemblyDefinition function to get part IDs)\n",
        "url = 'https://cad.onshape.com/documents/83fe72223d6c66b41b765924/w/113e1197ad4a6fb4aa7ec89e/e/32213f4769260d44baa04f32' #@param {type:\"string\"}\n",
        "partIdToMove = 'MKx3zdFgIy1hymOfT'#@param {type:'string'}\n",
        "isRelative = True#@param {type:'boolean'}\n",
        "#@markdown Translate object to x1,y1,z1 (if isRelative is False) or by x1,y1,z1 in the x,y,z directions (if isRelative is True)\n",
        "x1 = 0.001#@param\n",
        "y1 = 0#@param\n",
        "z1 = 0#@param\n",
        "\n",
        "occurrences = getAssemblyDefinition(url)['rootAssembly']['occurrences']\n",
        "for x in occurrences:\n",
        "    if x['path'][0] == partIdToMove:\n",
        "      occurrence = x\n",
        "## Reset the transformation matrix\n",
        "occurrence['transform'] = IdentitySixteen()\n",
        "occurrence['transform'][3] = x1\n",
        "occurrence['transform'][7] = y1\n",
        "occurrence['transform'][11] = z1\n",
        "\n",
        "## Put translation first, rotation second to rotate about global coordinate system first\n",
        "print(\"Transformation matrix:\")\n",
        "for x in sixteenToFourByFour(occurrence['transform']):\n",
        "  print(x)\n",
        "      \n",
        "## Send assembly occurence transforms\n",
        "fixed_url = '/api/assemblies/d/did/w/wid/e/eid/occurrencetransforms'\n",
        "\n",
        "element = OnshapeElement(url)\n",
        "fixed_url = fixed_url.replace('did', element.did)\n",
        "fixed_url = fixed_url.replace('wid', element.wvmid)\n",
        "fixed_url = fixed_url.replace('eid', element.eid)\n",
        "\n",
        "method = 'POST'\n",
        "\n",
        "params = {}\n",
        "\n",
        "payload = {'isRelative':isRelative,\n",
        "           'occurrences':[occurrence],\n",
        "           'transform':occurrence['transform']\n",
        "    }\n",
        "\n",
        "headers = {'Accept': 'application/vnd.onshape.v1+json; charset=UTF-8;qs=0.1',\n",
        "           'Content-Type': 'application/json'}\n",
        "\n",
        "response = client.api_client.request(method, url=base + fixed_url, query_params=params, headers=headers, body=payload)"
      ],
      "metadata": {
        "id": "nbywROekQyjr",
        "colab": {
          "base_uri": "https://localhost:8080/"
        },
        "outputId": "665a00c0-c96a-4f59-9c9c-978130129558",
        "cellView": "form"
      },
      "execution_count": 48,
      "outputs": [
        {
          "output_type": "stream",
          "name": "stdout",
          "text": [
            "Transformation matrix:\n",
            "[1, 0, 0, 0.001]\n",
            "[0, 1, 0, 0]\n",
            "[0, 0, 1, 0]\n",
            "[0, 0, 0, 1]\n"
          ]
        }
      ]
    },
    {
      "cell_type": "markdown",
      "source": [
        "## 3. Test Input & Output Positions"
      ],
      "metadata": {
        "id": "m6Y3VLguSMKd"
      }
    },
    {
      "cell_type": "code",
      "source": [
        "url = 'https://cad.onshape.com/documents/83fe72223d6c66b41b765924/w/113e1197ad4a6fb4aa7ec89e/e/32213f4769260d44baa04f32' #@param{'type': 'string'}\n",
        "input_partId = 'MKx3zdFgIy1hymOfT' #@param{'type': 'string'}\n",
        "\n",
        "method = \"GET\"\n",
        "headers = {'Accept': 'application/vnd.onshape.v2+json;charset=UTF-8;qs=0.2',\n",
        "           'Content-Type': 'application/json'}\n",
        "params = {}\n",
        "payload = {} \n",
        "\n",
        "fixed_url = '/api/assemblies/d/did/w/wid/e/eid'\n",
        "element = OnshapeElement(url)\n",
        "fixed_url = fixed_url.replace('did', element.did)\n",
        "fixed_url = fixed_url.replace('wid', element.wvmid)\n",
        "fixed_url = fixed_url.replace('eid', element.eid)\n",
        "\n",
        "response = client.api_client.request(method=method, url=base + fixed_url, query_params=params, headers=headers, body=payload)\n",
        "parsed  = json.loads(response.data)\n",
        "\n",
        "for occ in parsed['rootAssembly']['occurrences']: \n",
        "    if occ['path'][0] == input_partId: \n",
        "        # print(json.dumps(occ, indent=4))\n",
        "        print(\"X Pos:\", occ['transform'][3])\n",
        "        print(\"Y Pos:\", occ['transform'][7])\n"
      ],
      "metadata": {
        "colab": {
          "base_uri": "https://localhost:8080/"
        },
        "cellView": "form",
        "id": "_kS3W0piSTHH",
        "outputId": "6de92860-c200-4b2d-c180-af9fb97e4c91"
      },
      "execution_count": 49,
      "outputs": [
        {
          "output_type": "stream",
          "name": "stdout",
          "text": [
            "X Pos: 0.08831602095189425\n",
            "Y Pos: -0.005000000000000137\n"
          ]
        }
      ]
    },
    {
      "cell_type": "code",
      "source": [
        "url = 'https://cad.onshape.com/documents/83fe72223d6c66b41b765924/w/113e1197ad4a6fb4aa7ec89e/e/32213f4769260d44baa04f32' #@param{'type': 'string'}\n",
        "output_partId = 'M/DOa7cJLjEv6Tloh' #@param{'type': 'string'}\n",
        "\n",
        "method = \"GET\"\n",
        "headers = {'Accept': 'application/vnd.onshape.v2+json;charset=UTF-8;qs=0.2',\n",
        "           'Content-Type': 'application/json'}\n",
        "params = {}\n",
        "payload = {} \n",
        "\n",
        "fixed_url = '/api/assemblies/d/did/w/wid/e/eid'\n",
        "element = OnshapeElement(url)\n",
        "fixed_url = fixed_url.replace('did', element.did)\n",
        "fixed_url = fixed_url.replace('wid', element.wvmid)\n",
        "fixed_url = fixed_url.replace('eid', element.eid)\n",
        "\n",
        "response = client.api_client.request(method=method, url=base + fixed_url, query_params=params, headers=headers, body=payload)\n",
        "parsed  = json.loads(response.data)\n",
        "\n",
        "for occ in parsed['rootAssembly']['occurrences']: \n",
        "    if occ['path'][0] == output_partId: \n",
        "        # print(json.dumps(occ, indent=4))\n",
        "        print(\"X Pos:\", occ['transform'][3])\n",
        "        print(\"Y Pos:\", occ['transform'][7])\n"
      ],
      "metadata": {
        "colab": {
          "base_uri": "https://localhost:8080/"
        },
        "cellView": "form",
        "outputId": "f2cb02ec-3847-42d1-a699-8ca7bcd1fee9",
        "id": "RxLM_NwfT3Dn"
      },
      "execution_count": 50,
      "outputs": [
        {
          "output_type": "stream",
          "name": "stdout",
          "text": [
            "X Pos: -0.2289480628556616\n",
            "Y Pos: -0.01500000000000002\n"
          ]
        }
      ]
    },
    {
      "cell_type": "markdown",
      "source": [
        "## Putting it all together"
      ],
      "metadata": {
        "id": "fOTxtV-h31Q0"
      }
    },
    {
      "cell_type": "code",
      "source": [
        "#@title Run this cell to load kinematics and definitons functions\n",
        "#@markdown Translation Configurations\n",
        "\n",
        "import numpy as np \n",
        "\n",
        "# Function: Get assembly definition\n",
        "def getAssemblyDefinition(url: str):\n",
        "  fixed_url = '/api/assemblies/d/did/w/wid/e/eid'\n",
        "  element = OnshapeElement(url)\n",
        "  base = element.base_url\n",
        "  fixed_url = fixed_url.replace('did', element.did)\n",
        "  fixed_url = fixed_url.replace('wid', element.wvmid)\n",
        "  fixed_url = fixed_url.replace('eid', element.eid)\n",
        "\n",
        "  method = 'GET'\n",
        "  params = {}\n",
        "  payload = {}\n",
        "  headers = {'Accept': 'application/vnd.onshape.v1+json; charset=UTF-8;qs=0.1',\n",
        "            'Content-Type': 'application/json'}\n",
        "\n",
        "  response = client.api_client.request(method, url=base + fixed_url, query_params=params, headers=headers, body=payload)\n",
        "  parsed = json.loads(response.data)\n",
        "  return parsed\n",
        "\n",
        "# Function: Translate input\n",
        "def translate_input(url, assembly, partId: str, translation: float):\n",
        "  url = 'https://cad.onshape.com/documents/83fe72223d6c66b41b765924/w/113e1197ad4a6fb4aa7ec89e/e/32213f4769260d44baa04f32' #@param {type:\"string\"}\n",
        "  partIdToMove = 'MKx3zdFgIy1hymOfT'#@param {type:'string'}\n",
        "  isRelative = True#@param {type:'boolean'}\n",
        "  #@markdown Translate object to x1,y1,z1 (if isRelative is False) or by x1,y1,z1 in the x,y,z directions (if isRelative is True)\n",
        "  x1 = 0.01#@param\n",
        "  y1 = 0#@param\n",
        "  z1 = 0#@param\n",
        "\n",
        "  occurrences = getAssemblyDefinition(url)['rootAssembly']['occurrences']\n",
        "  for x in occurrences:\n",
        "      if x['path'][0] == partIdToMove:\n",
        "        occurrence = x\n",
        "  ## Reset the transformation matrix\n",
        "  occurrence['transform'] = IdentitySixteen()\n",
        "  occurrence['transform'][3] = x1\n",
        "  occurrence['transform'][7] = y1\n",
        "  occurrence['transform'][11] = z1\n",
        "        \n",
        "  ## Send assembly occurence transforms\n",
        "  fixed_url = '/api/assemblies/d/did/w/wid/e/eid/occurrencetransforms'\n",
        "\n",
        "  element = OnshapeElement(url)\n",
        "  fixed_url = fixed_url.replace('did', element.did)\n",
        "  fixed_url = fixed_url.replace('wid', element.wvmid)\n",
        "  fixed_url = fixed_url.replace('eid', element.eid)\n",
        "\n",
        "  method = 'POST'\n",
        "\n",
        "  params = {}\n",
        "\n",
        "  payload = {'isRelative':isRelative,\n",
        "            'occurrences':[occurrence],\n",
        "            'transform':occurrence['transform']\n",
        "      }\n",
        "\n",
        "  headers = {'Accept': 'application/vnd.onshape.v1+json; charset=UTF-8;qs=0.1',\n",
        "            'Content-Type': 'application/json'}\n",
        "\n",
        "  response = client.api_client.request(method, url=base + fixed_url, query_params=params, headers=headers, body=payload)\n",
        "\n",
        "# Function: Get position information for part (sync)\n",
        "def get_position(assembly, partId: str):\n",
        "  for occ in assembly['rootAssembly']['occurrences']: \n",
        "    if occ['path'][0] == partId: \n",
        "        return occ['transform'][3], occ['transform'][7]\n",
        "  print(\"Part not found!\") \n",
        "  return None "
      ],
      "metadata": {
        "cellView": "form",
        "id": "AAiw_uIcOAZE"
      },
      "execution_count": 59,
      "outputs": []
    },
    {
      "cell_type": "code",
      "source": [
        "import matplotlib.pyplot as plt\n",
        "\n",
        "# Store position values\n",
        "input_partId = 'MKx3zdFgIy1hymOfT' #@param{'type': 'string'}\n",
        "output_partId = 'M/DOa7cJLjEv6Tloh' #@param{'type': 'string'}\n",
        "\n",
        "input_x_pos = [] \n",
        "input_y_pos = [] \n",
        "output_x_pos = [] \n",
        "output_y_pos = [] \n",
        "\n",
        "step =  5#@param{'type': 'number'}\n",
        "\n",
        "assembly_info = getAssemblyDefinition(url)\n",
        "in_pos = get_position(assembly_info, input_partId) # CHANGE \n",
        "out_pos = get_position(assembly_info, output_partId) # CHANGE \n",
        "if in_pos and out_pos: \n",
        "    input_x_pos.append(in_pos[0])\n",
        "    input_y_pos.append(in_pos[1])\n",
        "    output_x_pos.append(out_pos[0])\n",
        "    output_y_pos.append(out_pos[1])\n",
        "    for i in range(step): \n",
        "        translate_input(url, assembly_info, input_partId, step) \n",
        "        assembly_info = getAssemblyDefinition(url)\n",
        "        in_pos = get_position(assembly_info, input_partId) \n",
        "        out_pos = get_position(assembly_info, output_partId) \n",
        "        input_x_pos.append(in_pos[0])\n",
        "        input_y_pos.append(in_pos[1])\n",
        "        output_x_pos.append(out_pos[0])\n",
        "        output_y_pos.append(out_pos[1])\n",
        "\n",
        "# Plot the position path \n",
        "# print(input_x_pos)\n",
        "# print(input_y_pos)\n",
        "# print(output_x_pos)\n",
        "# print(output_y_pos)\n",
        "\n",
        "# Constraint\n",
        "input_y_pos = output_y_pos\n",
        "\n",
        "fig, ax = plt.subplots()\n",
        "ax.plot(input_x_pos, input_y_pos, label='Input', marker='o')\n",
        "ax.plot(output_x_pos, output_y_pos, label='Output', marker='o')\n",
        "\n",
        "plt.legend()\n",
        "plt.tight_layout()\n",
        "plt.show()"
      ],
      "metadata": {
        "id": "51s1Jo7u33an",
        "colab": {
          "base_uri": "https://localhost:8080/",
          "height": 297
        },
        "outputId": "bd3ac1fd-798a-4e09-aa7c-139b1ed84bb7",
        "cellView": "form"
      },
      "execution_count": 60,
      "outputs": [
        {
          "output_type": "display_data",
          "data": {
            "text/plain": [
              "<Figure size 432x288 with 1 Axes>"
            ],
            "image/png": "[encoded data removed]"
          },
          "metadata": {
            "needs_background": "light"
          }
        }
      ]
    }
  ]
}